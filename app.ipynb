{
 "cells": [
  {
   "cell_type": "code",
   "execution_count": 1,
   "metadata": {},
   "outputs": [],
   "source": [
    "import pandas as pd\n",
    "from selenium import webdriver\n",
    "from selenium.webdriver.chrome.service import Service\n",
    "from selenium.webdriver.support.ui import Select\n",
    "from webdriver_manager.chrome import ChromeDriverManager\n",
    "import time\n",
    "import datetime\n",
    "import yfinance as yf\n",
    "from pretty_html_table import build_table\n",
    "import smtplib\n",
    "import email.message"
   ]
  },
  {
   "attachments": {},
   "cell_type": "markdown",
   "metadata": {},
   "source": [
    "### Acessando o site"
   ]
  },
  {
   "cell_type": "code",
   "execution_count": 2,
   "metadata": {},
   "outputs": [],
   "source": [
    "driver = webdriver.Chrome(service= Service(ChromeDriverManager().install()))\n",
    "url = \"https://www.investsite.com.br/seleciona_acoes.php\"\n",
    "driver.get(url)"
   ]
  },
  {
   "attachments": {},
   "cell_type": "markdown",
   "metadata": {},
   "source": [
    "### Clicando no botão \"Procurar Ações\""
   ]
  },
  {
   "cell_type": "code",
   "execution_count": 3,
   "metadata": {},
   "outputs": [],
   "source": [
    "botao_procurar = driver.find_element('xpath', '/html/body/div[1]/div[3]/div/form/input[1]')\n",
    "driver.execute_script(\"arguments[0].click();\", botao_procurar)"
   ]
  },
  {
   "attachments": {},
   "cell_type": "markdown",
   "metadata": {},
   "source": [
    "### Na tag < select > escolher \"Mostrar Todos por página\""
   ]
  },
  {
   "cell_type": "code",
   "execution_count": 4,
   "metadata": {},
   "outputs": [],
   "source": [
    "select = Select(driver.find_element('xpath', '/html/body/div[1]/div[3]/div[2]/div[1]/div[1]/select'))\n",
    "select = select.select_by_value('-1')"
   ]
  },
  {
   "attachments": {},
   "cell_type": "markdown",
   "metadata": {},
   "source": [
    "### Salvando a tabela html para csv"
   ]
  },
  {
   "cell_type": "code",
   "execution_count": 5,
   "metadata": {},
   "outputs": [],
   "source": [
    "tabela = driver.find_element(\"xpath\", '/html/body/div[1]/div[3]/div[2]/div[2]/div[2]/table')\n",
    "html_tabela = tabela.get_attribute(\"outerHTML\")\n",
    "data = pd.read_html(html_tabela)[0]\n",
    "data.to_csv('screener.csv')"
   ]
  },
  {
   "attachments": {},
   "cell_type": "markdown",
   "metadata": {},
   "source": [
    "### Fechando o chrome"
   ]
  },
  {
   "cell_type": "code",
   "execution_count": 6,
   "metadata": {},
   "outputs": [],
   "source": [
    "driver.quit()"
   ]
  },
  {
   "attachments": {},
   "cell_type": "markdown",
   "metadata": {},
   "source": [
    "### Tratando os dados e aplicando os filtros\n",
    "Filtros:\n",
    "<ul>\n",
    "    <li>Volume Financeiro > R$100.000,00</li>\n",
    "    <li>EV/EBIT positivo</li>\n",
    "    <li>P/VPA positivo</li>\n",
    "    <li>ROIC positivo</li>\n",
    "<ul>\n"
   ]
  },
  {
   "cell_type": "code",
   "execution_count": 7,
   "metadata": {},
   "outputs": [
    {
     "name": "stderr",
     "output_type": "stream",
     "text": [
      "/tmp/ipykernel_25092/2667562217.py:15: FutureWarning: The default value of regex will change from True to False in a future version. In addition, single character regular expressions will *not* be treated as literal strings when regex=True.\n",
      "  screener['volfin'] = screener['volfin'].str.replace('.', '')\n",
      "/tmp/ipykernel_25092/2667562217.py:20: FutureWarning: The default value of regex will change from True to False in a future version. In addition, single character regular expressions will *not* be treated as literal strings when regex=True.\n",
      "  screener['evebit'] = screener['evebit'].str.replace('.', '')\n"
     ]
    }
   ],
   "source": [
    "#abrindo a planilha\n",
    "screener = pd.read_csv('screener.csv')\n",
    "#nomeando colunas\n",
    "screener.rename(columns={'Unnamed: 0': 'ticker',\n",
    "                        'Unnamed: 3': 'roic',\n",
    "                        'Unnamed: 9': 'pvpa',\n",
    "                        'Unnamed: 10': 'evebit',\n",
    "                        'Unnamed: 12': 'volfin'},inplace=True)\n",
    "#excluindo colunas que não serão utilizadas\n",
    "screener = screener.drop(['Unnamed: 0.1', 'Unnamed: 1', 'Unnamed: 2', 'Unnamed: 4', 'Unnamed: 5',\n",
    "                        'Unnamed: 6', 'Unnamed: 7', 'Unnamed: 8', 'Unnamed: 11' ,'Unnamed: 13'], axis=1)\n",
    "\n",
    "\n",
    "#filtrando volume financeiro > 100k\n",
    "screener['volfin'] = screener['volfin'].str.replace('.', '')\n",
    "screener['volfin'] = pd.to_numeric(screener['volfin'], errors='coerce')\n",
    "screener = screener.loc[screener['volfin'] > 100000]\n",
    "\n",
    "#filtrando ev/ebit > 0\n",
    "screener['evebit'] = screener['evebit'].str.replace('.', '')\n",
    "screener['evebit'] = pd.to_numeric(screener['evebit'], errors='coerce')\n",
    "screener = screener.loc[screener['evebit'] > 0]\n",
    "screener['evebit'] = screener['evebit'] / 100\n",
    "\n",
    "#filtrando p/vpa > 0\n",
    "screener['pvpa'] = pd.to_numeric(screener['pvpa'], errors='coerce')\n",
    "screener['pvpa'] = screener['pvpa'] / 100\n",
    "screener = screener.loc[screener['pvpa'] > 0]\n",
    "\n",
    "#filtrando roic > 0\n",
    "screener['roic'] = screener['roic'].str.replace('%', '')\n",
    "screener['roic'] = screener['roic'].str.replace(',', '')\n",
    "screener['roic'] = pd.to_numeric(screener['roic'], errors='coerce')\n",
    "screener['roic'] = screener['roic'] / 100\n",
    "screener = screener.loc[screener['roic'] > 0]\n",
    "\n",
    "#salvando\n",
    "screener.to_csv('formula.csv')\n"
   ]
  },
  {
   "attachments": {},
   "cell_type": "markdown",
   "metadata": {},
   "source": [
    "### Salvando a tabela formatada para csv"
   ]
  },
  {
   "cell_type": "code",
   "execution_count": 8,
   "metadata": {},
   "outputs": [],
   "source": [
    "formula = pd.read_csv('formula.csv')\n",
    "formula = formula.drop(['Unnamed: 0', 'volfin'], axis=1)"
   ]
  },
  {
   "attachments": {},
   "cell_type": "markdown",
   "metadata": {},
   "source": [
    "### Ranking de ROIC"
   ]
  },
  {
   "cell_type": "code",
   "execution_count": 9,
   "metadata": {},
   "outputs": [],
   "source": [
    "formula.sort_values(by='roic', ascending=False, inplace=True) \n",
    "formula.to_csv('roic.csv')\n",
    "roic = pd.read_csv('roic.csv')\n",
    "roic['rankingroic'] = roic.index\n",
    "roic = roic.drop(columns=['Unnamed: 0', 'pvpa', 'evebit'])"
   ]
  },
  {
   "attachments": {},
   "cell_type": "markdown",
   "metadata": {},
   "source": [
    "### Ranking de EV/EBIT"
   ]
  },
  {
   "cell_type": "code",
   "execution_count": 10,
   "metadata": {},
   "outputs": [],
   "source": [
    "formula.sort_values(by='evebit', ascending=True, inplace=True) \n",
    "formula.to_csv('evebit.csv')\n",
    "evebit = pd.read_csv('evebit.csv')\n",
    "evebit['rankingevebit'] = evebit.index\n",
    "evebit = evebit.drop(columns=['Unnamed: 0', 'pvpa', 'roic'])"
   ]
  },
  {
   "attachments": {},
   "cell_type": "markdown",
   "metadata": {},
   "source": [
    "### Cruzando os ranking de ROIC x EV/EBIT para criar o ranking de pontuação da fórmula"
   ]
  },
  {
   "cell_type": "code",
   "execution_count": 11,
   "metadata": {},
   "outputs": [],
   "source": [
    "#filtrando as empresas nos rankings\n",
    "evebit_sorted = evebit.sort_values(['ticker'], ascending=[True])\n",
    "roic_sorted = roic.sort_values(['ticker'], ascending=[True])\n",
    "\n",
    "#somando os rankings para criar a fórmula\n",
    "ranking = evebit_sorted.merge(roic_sorted, on='ticker')\n",
    "ranking['ranking'] = ranking['rankingevebit'] + ranking['rankingroic']\n",
    "ranking = ranking.sort_values(['ranking'], ascending=[True])\n",
    "ranking = ranking.drop(columns=['rankingevebit', 'rankingroic'])\n",
    "\n",
    "#excluindo empresas duplicadas da lista\n",
    "ranking = ranking[~ranking.ticker.isin(['BRAP3', 'TASA3', 'PETR3', 'GOAU3', 'GOAU4', 'GGBR3', 'BRKM3', 'RNEW3', 'RNEW11', 'UNIP3', 'UNIP5', 'USIM3', 'DEXP4'])]\n",
    "\n",
    "ranking = ranking.reset_index(drop=True)\n",
    "#variavel para salvar a ordem do ranking\n",
    "ordem = ranking.head(20)\n",
    "ranking = ordem\n",
    "ranking['ticker'] = ranking['ticker'].astype(str) + '.SA'\n",
    "ranking = ranking[\"ticker\"].tolist()\n",
    "ordem['ticker'] = ordem['ticker'].str.slice(stop=-3)\n"
   ]
  },
  {
   "attachments": {},
   "cell_type": "markdown",
   "metadata": {},
   "source": [
    "### Puxando as cotações do Yahoo Finance"
   ]
  },
  {
   "cell_type": "code",
   "execution_count": 12,
   "metadata": {},
   "outputs": [
    {
     "name": "stdout",
     "output_type": "stream",
     "text": [
      "[*********************100%***********************]  20 of 20 completed\n"
     ]
    }
   ],
   "source": [
    "hoje = datetime.datetime.now()\n",
    "um_ano_atras = hoje - datetime.timedelta(days = 365)\n",
    "dados_mercado = yf.download(ranking, um_ano_atras, hoje)\n",
    "dados_mercado = dados_mercado['Close']"
   ]
  },
  {
   "attachments": {},
   "cell_type": "markdown",
   "metadata": {},
   "source": [
    "### Calculando as variações"
   ]
  },
  {
   "cell_type": "code",
   "execution_count": 13,
   "metadata": {},
   "outputs": [],
   "source": [
    "retorno_30d = ((dados_mercado.iloc[-2, :] / dados_mercado.iloc[-21, :]) - 1)\n",
    "retorno_30d = round(retorno_30d * 100, 2)\n",
    "\n",
    "retorno_180 = ((dados_mercado.iloc[-2, :] / dados_mercado.iloc[-123, :]) - 1)\n",
    "retorno_180 = round(retorno_180 * 100, 2)\n",
    "\n",
    "retorno_365d = ((dados_mercado.iloc[-2, :] / dados_mercado.iloc[0, :]) - 1)\n",
    "retorno_365d = round(retorno_365d * 100, 2)\n",
    "\n",
    "retorno = pd.concat([retorno_30d, retorno_180, retorno_365d], axis=1)\n",
    "\n",
    "retorno.rename(columns={0: '30d (%)',\n",
    "                        1: '180d (%)',\n",
    "                        2: '365d (%)'},inplace=True)\n",
    "\n",
    "#tirando o .SA do final do nome das empresas\n",
    "retorno = retorno.reset_index(drop=False)\n",
    "retorno.rename(columns={'index': 'ticker'}, inplace=True)\n",
    "retorno = retorno.astype({'ticker':'string'})\n",
    "retorno['ticker'] = retorno['ticker'].str.slice(stop=-3)\n",
    "\n",
    "#reordenando conforme o ranking da formula\n",
    "\n",
    "retorno = pd.merge(retorno, ordem, on='ticker')\n",
    "retorno = retorno.sort_values('ranking', ascending=True)\n",
    "\n",
    "retorno = retorno.reset_index(drop=True)\n",
    "#criando a coluna Ranking\n",
    "retorno['Ranking'] = range(1, len(retorno)+1)\n",
    "\n",
    "#renomeando as colunas\n",
    "retorno = retorno.rename(columns={'ticker': 'Empresa', 'evebit': 'EV/EBIT', 'roic': 'ROIC (%)', 'ranking': 'Pontos'})\n",
    "\n",
    "#reordenando as colunas\n",
    "new_col_order = ['Ranking', 'Pontos', 'Empresa', 'EV/EBIT', 'ROIC (%)', '30d (%)', '180d (%)', '365d (%)']\n",
    "retorno = retorno.reindex(columns=new_col_order)\n",
    "\n",
    "retorno['Ranking'] = retorno['Ranking'].astype(str) + '°'\n"
   ]
  },
  {
   "attachments": {},
   "cell_type": "markdown",
   "metadata": {},
   "source": [
    "### Transformando o dataframe em tabela HTML e estilizando"
   ]
  },
  {
   "cell_type": "code",
   "execution_count": 14,
   "metadata": {},
   "outputs": [],
   "source": [
    "html_table = build_table(retorno, 'blue_light')"
   ]
  },
  {
   "attachments": {},
   "cell_type": "markdown",
   "metadata": {},
   "source": [
    "### Declarando a função para enviar email"
   ]
  },
  {
   "cell_type": "code",
   "execution_count": 15,
   "metadata": {},
   "outputs": [],
   "source": [
    "def enviar_email(pessoas):\n",
    "    corpo_email = f'''\n",
    "    {html_table}\n",
    "    <p>A <b>\"Magic Formula\"</b> é uma técnica introduzida pelo investidor Joel Greenblatt que consiste na criação de um ranking com as melhores empresas da bolsa de acordo com dois critérios, sendo um de valor (EV/EBIT) e outro de rentabilidade (ROIC). O ranking final é a soma de suas pontuações em cada critério.</p>\n",
    "    <p>A tabela acima foi criada a partir de um banco de dados da bolsa brasileira, onde todas as empresas foram analisadas com os valores do último fechamento de mercado.</p>\n",
    "    <p>Primeiramente é feito um <b>filtro de qualidade</b> excluindo as empresas que não atendem os seguintes critérios:<br>\n",
    "    • Volume Financeiro > R$100.000,00<br>\n",
    "    • EV/EBIT positivo<br>\n",
    "    • P/VPA positivo<br>\n",
    "    • ROIC positivo</p>\n",
    "    \n",
    "    <em><b>EV/EBIT:</b> Enterprise Value (Valor da Firma) dividido por Earnings Before Interest and Taxes (Lucro Operacional).</em><br>\n",
    "    <em><b>ROIC:</b> Return Over Invested Capital (Retorno sobre o Capital Investido).</em><br>\n",
    "    <em><b>Volume Financeiro:</b> Volume financeiro médio transacionado diariamente (média dos últimos 90 dias).</em><br>\n",
    "    <em><b>P/VPA:</b> Preço dividido pelo Valor Patrimonial.</em>\n",
    "    <p><b>***NÃO É UMA RECOMENDAÇÃO DE INVESTIMENTO***</b></p>\n",
    "    '''\n",
    "    msg = email.message.Message()\n",
    "    msg['Subject'] = \"Magic Formula B3\"\n",
    "\n",
    "    #seu email\n",
    "    msg['From'] = \"seu email aqui\"\n",
    "    msg['To'] = pessoas\n",
    "\n",
    "    #senha de app do gmail\n",
    "    password = 'sua senha aqui'\n",
    "    msg.add_header('Content-Type', 'text/html')\n",
    "    msg.set_payload(corpo_email)\n",
    "     \n",
    "\n",
    "    s = smtplib.SMTP('smtp.gmail.com: 587')\n",
    "    s.starttls()\n",
    "    s.login(msg['From'], password)\n",
    "    s.sendmail(msg['From'], [msg['To']], msg.as_string().encode('utf-8'))\n",
    "    print('Email enviado')"
   ]
  },
  {
   "attachments": {},
   "cell_type": "markdown",
   "metadata": {},
   "source": [
    "### Chamando a função de enviar email"
   ]
  },
  {
   "cell_type": "code",
   "execution_count": 16,
   "metadata": {},
   "outputs": [],
   "source": [
    "#enviar_email()"
   ]
  },
  {
   "attachments": {},
   "cell_type": "markdown",
   "metadata": {},
   "source": [
    "### Função para enviar o email para vários destinatários"
   ]
  },
  {
   "cell_type": "code",
   "execution_count": 18,
   "metadata": {},
   "outputs": [
    {
     "name": "stdout",
     "output_type": "stream",
     "text": [
      "Email enviado\n"
     ]
    }
   ],
   "source": [
    "pessoas = [\"seu email aqui\"]\n",
    "for pessoa in pessoas:\n",
    "    enviar_email(pessoa)"
   ]
  }
 ],
 "metadata": {
  "kernelspec": {
   "display_name": "Python 3",
   "language": "python",
   "name": "python3"
  },
  "language_info": {
   "codemirror_mode": {
    "name": "ipython",
    "version": 3
   },
   "file_extension": ".py",
   "mimetype": "text/x-python",
   "name": "python",
   "nbconvert_exporter": "python",
   "pygments_lexer": "ipython3",
   "version": "3.10.6"
  },
  "orig_nbformat": 4,
  "vscode": {
   "interpreter": {
    "hash": "916dbcbb3f70747c44a77c7bcd40155683ae19c65e1c03b4aa3499c5328201f1"
   }
  }
 },
 "nbformat": 4,
 "nbformat_minor": 2
}
